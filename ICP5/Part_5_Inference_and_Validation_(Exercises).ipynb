{
  "nbformat": 4,
  "nbformat_minor": 0,
  "metadata": {
    "colab": {
      "name": "Part 5 - Inference and Validation (Exercises).ipynb",
      "version": "0.3.2",
      "provenance": [],
      "collapsed_sections": [],
      "toc_visible": true
    },
    "language_info": {
      "codemirror_mode": {
        "name": "ipython",
        "version": 3
      },
      "file_extension": ".py",
      "mimetype": "text/x-python",
      "name": "python",
      "nbconvert_exporter": "python",
      "pygments_lexer": "ipython3",
      "version": "3.6.6"
    },
    "kernelspec": {
      "name": "python3",
      "display_name": "Python 3"
    },
    "accelerator": "GPU"
  },
  "cells": [
    {
      "cell_type": "markdown",
      "metadata": {
        "id": "gmujdT0u0cv8",
        "colab_type": "text"
      },
      "source": [
        "# Inference, Validation, and loading pretrained models\n",
        "\n",
        "Now that you have a trained network, you can use it for making predictions. This is typically called **inference**, a term borrowed from statistics. However, neural networks have a tendency to perform *too well* on the training data and aren't able to generalize to data that hasn't been seen before. This is called **overfitting** and it impairs inference performance. To test for overfitting while training, we measure the performance on data not in the training set called the **validation** set. We avoid overfitting through regularization such as dropout while monitoring the validation performance during training. In this notebook, I'll show you how to do this in PyTorch. \n",
        "\n",
        "As usual, let's start by loading the dataset through torchvision. You'll learn more about torchvision and loading data in a later part. This time we'll be taking advantage of the test set which you can get by setting `train=False` here:\n",
        "\n",
        "```python\n",
        "testset = datasets.FashionMNIST('~/.pytorch/F_MNIST_data/', download=True, train=False, transform=transform)\n",
        "```\n",
        "\n",
        "The test set contains images just like the training set. Typically you'll see 10-20% of the original dataset held out for testing and validation with the rest being used for training."
      ]
    },
    {
      "cell_type": "code",
      "metadata": {
        "id": "iTimBCC80cv9",
        "colab_type": "code",
        "outputId": "79dc86ce-4386-4e4e-a015-491bef6edd85",
        "colab": {
          "base_uri": "https://localhost:8080/",
          "height": 275
        }
      },
      "source": [
        "import torch\n",
        "from torchvision import datasets, transforms\n",
        "\n",
        "# Define a transform to normalize the data\n",
        "transform = transforms.Compose([transforms.ToTensor(),\n",
        "                                transforms.Normalize((0.5,), (0.5,))])\n",
        "# Download and load the training data\n",
        "trainset = datasets.FashionMNIST('~/.pytorch/F_MNIST_data/', download=True, train=True, transform=transform)\n",
        "trainloader = torch.utils.data.DataLoader(trainset, batch_size=64, shuffle=True)\n",
        "\n",
        "# Download and load the test data\n",
        "testset = datasets.FashionMNIST('~/.pytorch/F_MNIST_data/', download=True, train=False, transform=transform)\n",
        "testloader = torch.utils.data.DataLoader(testset, batch_size=64, shuffle=True)"
      ],
      "execution_count": 0,
      "outputs": [
        {
          "output_type": "stream",
          "text": [
            "\r0it [00:00, ?it/s]"
          ],
          "name": "stderr"
        },
        {
          "output_type": "stream",
          "text": [
            "Downloading http://fashion-mnist.s3-website.eu-central-1.amazonaws.com/train-images-idx3-ubyte.gz to /root/.pytorch/F_MNIST_data/FashionMNIST/raw/train-images-idx3-ubyte.gz\n"
          ],
          "name": "stdout"
        },
        {
          "output_type": "stream",
          "text": [
            "26427392it [00:03, 6773089.54it/s]                              \n"
          ],
          "name": "stderr"
        },
        {
          "output_type": "stream",
          "text": [
            "Extracting /root/.pytorch/F_MNIST_data/FashionMNIST/raw/train-images-idx3-ubyte.gz\n"
          ],
          "name": "stdout"
        },
        {
          "output_type": "stream",
          "text": [
            "\r0it [00:00, ?it/s]"
          ],
          "name": "stderr"
        },
        {
          "output_type": "stream",
          "text": [
            "Downloading http://fashion-mnist.s3-website.eu-central-1.amazonaws.com/train-labels-idx1-ubyte.gz to /root/.pytorch/F_MNIST_data/FashionMNIST/raw/train-labels-idx1-ubyte.gz\n"
          ],
          "name": "stdout"
        },
        {
          "output_type": "stream",
          "text": [
            "32768it [00:01, 30742.13it/s]                           \n",
            "0it [00:00, ?it/s]"
          ],
          "name": "stderr"
        },
        {
          "output_type": "stream",
          "text": [
            "Extracting /root/.pytorch/F_MNIST_data/FashionMNIST/raw/train-labels-idx1-ubyte.gz\n",
            "Downloading http://fashion-mnist.s3-website.eu-central-1.amazonaws.com/t10k-images-idx3-ubyte.gz to /root/.pytorch/F_MNIST_data/FashionMNIST/raw/t10k-images-idx3-ubyte.gz\n"
          ],
          "name": "stdout"
        },
        {
          "output_type": "stream",
          "text": [
            "4423680it [00:02, 1898624.32it/s]                            \n",
            "0it [00:00, ?it/s]"
          ],
          "name": "stderr"
        },
        {
          "output_type": "stream",
          "text": [
            "Extracting /root/.pytorch/F_MNIST_data/FashionMNIST/raw/t10k-images-idx3-ubyte.gz\n",
            "Downloading http://fashion-mnist.s3-website.eu-central-1.amazonaws.com/t10k-labels-idx1-ubyte.gz to /root/.pytorch/F_MNIST_data/FashionMNIST/raw/t10k-labels-idx1-ubyte.gz\n"
          ],
          "name": "stdout"
        },
        {
          "output_type": "stream",
          "text": [
            "8192it [00:00, 17067.56it/s]            "
          ],
          "name": "stderr"
        },
        {
          "output_type": "stream",
          "text": [
            "Extracting /root/.pytorch/F_MNIST_data/FashionMNIST/raw/t10k-labels-idx1-ubyte.gz\n",
            "Processing...\n",
            "Done!\n"
          ],
          "name": "stdout"
        },
        {
          "output_type": "stream",
          "text": [
            "\n"
          ],
          "name": "stderr"
        }
      ]
    },
    {
      "cell_type": "markdown",
      "metadata": {
        "id": "4Cpj5SkG0cwA",
        "colab_type": "text"
      },
      "source": [
        "Here I'll create a model like normal, using the same one from my solution for part 4.\n",
        "\n",
        "> Indented block\n",
        "\n"
      ]
    },
    {
      "cell_type": "code",
      "metadata": {
        "id": "yVRjR7Zc0cwB",
        "colab_type": "code",
        "colab": {}
      },
      "source": [
        "from torch import nn, optim\n",
        "import torch.nn.functional as F\n",
        "\n",
        "class Classifier(nn.Module):\n",
        "    def __init__(self):\n",
        "        super().__init__()\n",
        "        self.fc1 = nn.Linear(784, 256)\n",
        "        self.fc2 = nn.Linear(256, 128)\n",
        "        self.fc3 = nn.Linear(128, 64)\n",
        "        self.fc4 = nn.Linear(64, 10)\n",
        "        \n",
        "    def forward(self, x):\n",
        "        # make sure input tensor is flattened\n",
        "        x = x.view(x.shape[0], -1)\n",
        "        \n",
        "        x = F.relu(self.fc1(x))\n",
        "        x = F.relu(self.fc2(x))\n",
        "        x = F.relu(self.fc3(x))\n",
        "        x = F.log_softmax(self.fc4(x), dim=1)\n",
        "        \n",
        "        return x"
      ],
      "execution_count": 0,
      "outputs": []
    },
    {
      "cell_type": "markdown",
      "metadata": {
        "id": "Alwcz17G0cwD",
        "colab_type": "text"
      },
      "source": [
        "The goal of validation is to measure the model's performance on data that isn't part of the training set. Performance here is up to the developer to define though. Typically this is just accuracy, the percentage of classes the network predicted correctly. Other options are [precision and recall](https://en.wikipedia.org/wiki/Precision_and_recall#Definition_(classification_context)) and top-5 error rate. We'll focus on accuracy here. First I'll do a forward pass with one batch from the test set."
      ]
    },
    {
      "cell_type": "code",
      "metadata": {
        "id": "HTC2QarV0cwE",
        "colab_type": "code",
        "outputId": "683c294d-f146-4379-b2f6-aa9f03c00311",
        "colab": {
          "base_uri": "https://localhost:8080/",
          "height": 51
        }
      },
      "source": [
        "model = Classifier()\n",
        "\n",
        "images, labels = next(iter(testloader))\n",
        "\n",
        "# Get the class probabilities\n",
        "ps = torch.exp(model(images))\n",
        "\n",
        "# Make sure the shape is appropriate, we should get 10 class probabilities for 64 examples\n",
        "print(ps.shape)\n",
        "print(labels[:10])\n"
      ],
      "execution_count": 0,
      "outputs": [
        {
          "output_type": "stream",
          "text": [
            "torch.Size([64, 10])\n",
            "tensor([7, 1, 0, 7, 3, 0, 8, 2, 3, 3])\n"
          ],
          "name": "stdout"
        }
      ]
    },
    {
      "cell_type": "markdown",
      "metadata": {
        "id": "MA3wZToe0cwI",
        "colab_type": "text"
      },
      "source": [
        "With the probabilities, we can get the most likely class using the `ps.topk` method. This returns the $k$ highest values. Since we just want the most likely class, we can use `ps.topk(1)`. This returns a tuple of the top-$k$ values and the top-$k$ indices. If the highest value is the fifth element, we'll get back 4 as the index."
      ]
    },
    {
      "cell_type": "code",
      "metadata": {
        "id": "iGfceiP20cwI",
        "colab_type": "code",
        "outputId": "9b324ffc-5b36-4fdb-8aa4-a800caa38e17",
        "colab": {
          "base_uri": "https://localhost:8080/",
          "height": 187
        }
      },
      "source": [
        "top_p, top_class = ps.topk(1, dim=1)\n",
        "# Look at the most likely classes for the first 10 examples\n",
        "print(top_class[:10, :])"
      ],
      "execution_count": 0,
      "outputs": [
        {
          "output_type": "stream",
          "text": [
            "tensor([[3],\n",
            "        [4],\n",
            "        [4],\n",
            "        [3],\n",
            "        [4],\n",
            "        [4],\n",
            "        [3],\n",
            "        [3],\n",
            "        [3],\n",
            "        [4]])\n"
          ],
          "name": "stdout"
        }
      ]
    },
    {
      "cell_type": "markdown",
      "metadata": {
        "id": "s-TjVj8w0cwK",
        "colab_type": "text"
      },
      "source": [
        "Now we can check if the predicted classes match the labels. This is simple to do by equating `top_class` and `labels`, but we have to be careful of the shapes. Here `top_class` is a 2D tensor with shape `(64, 1)` while `labels` is 1D with shape `(64)`. To get the equality to work out the way we want, `top_class` and `labels` must have the same shape.\n",
        "\n",
        "If we do\n",
        "\n",
        "```python\n",
        "equals = top_class == labels\n",
        "```\n",
        "\n",
        "`equals` will have shape `(64, 64)`, try it yourself. What it's doing is comparing the one element in each row of `top_class` with each element in `labels` which returns 64 True/False boolean values for each row."
      ]
    },
    {
      "cell_type": "code",
      "metadata": {
        "id": "Wi8xB6mo0cwL",
        "colab_type": "code",
        "outputId": "594b3406-e7ba-43ba-dfde-13ae43ba6a6e",
        "colab": {
          "base_uri": "https://localhost:8080/",
          "height": 187
        }
      },
      "source": [
        "equals = top_class == labels.view(top_class.shape)\n",
        "equals[:10,:]"
      ],
      "execution_count": 0,
      "outputs": [
        {
          "output_type": "execute_result",
          "data": {
            "text/plain": [
              "tensor([[0],\n",
              "        [0],\n",
              "        [0],\n",
              "        [0],\n",
              "        [0],\n",
              "        [0],\n",
              "        [0],\n",
              "        [0],\n",
              "        [1],\n",
              "        [0]], dtype=torch.uint8)"
            ]
          },
          "metadata": {
            "tags": []
          },
          "execution_count": 5
        }
      ]
    },
    {
      "cell_type": "markdown",
      "metadata": {
        "id": "fop-WK0K0cwN",
        "colab_type": "text"
      },
      "source": [
        "Now we need to calculate the percentage of correct predictions. `equals` has binary values, either 0 or 1. This means that if we just sum up all the values and divide by the number of values, we get the percentage of correct predictions. This is the same operation as taking the mean, so we can get the accuracy with a call to `torch.mean`. If only it was that simple. If you try `torch.mean(equals)`, you'll get an error\n",
        "\n",
        "```\n",
        "RuntimeError: mean is not implemented for type torch.ByteTensor\n",
        "```\n",
        "\n",
        "This happens because `equals` has type `torch.ByteTensor` but `torch.mean` isn't implemented for tensors with that type. So we'll need to convert `equals` to a float tensor. Note that when we take `torch.mean` it returns a scalar tensor, to get the actual value as a float we'll need to do `accuracy.item()`."
      ]
    },
    {
      "cell_type": "code",
      "metadata": {
        "id": "3XPmZ1hw0cwO",
        "colab_type": "code",
        "outputId": "375dd337-f22a-4507-deb6-f974b0a04b92",
        "colab": {
          "base_uri": "https://localhost:8080/",
          "height": 34
        }
      },
      "source": [
        "accuracy = torch.mean(equals.type(torch.FloatTensor))\n",
        "print(f'Accuracy: {accuracy.item()*100}%')"
      ],
      "execution_count": 0,
      "outputs": [
        {
          "output_type": "stream",
          "text": [
            "Accuracy: 10.9375%\n"
          ],
          "name": "stdout"
        }
      ]
    },
    {
      "cell_type": "markdown",
      "metadata": {
        "id": "nQ18o8wq0cwQ",
        "colab_type": "text"
      },
      "source": [
        "The network is untrained so it's making random guesses and we should see an accuracy around 10%. Now let's train our network and include our validation pass so we can measure how well the network is performing on the test set. Since we're not updating our parameters in the validation pass, we can speed up our code by turning off gradients using `torch.no_grad()`:\n",
        "\n",
        "```python\n",
        "# turn off gradients\n",
        "with torch.no_grad():\n",
        "    # validation pass here\n",
        "    for images, labels in testloader:\n",
        "        ...\n",
        "```\n",
        "\n",
        ">**Exercise:** Implement the validation loop below and print out the total accuracy after the loop. You can largely copy and paste the code from above, but I suggest typing it in because writing it out yourself is essential for building the skill. In general you'll always learn more by typing it rather than copy-pasting. You should be able to get an accuracy above 80%."
      ]
    },
    {
      "cell_type": "code",
      "metadata": {
        "id": "bDtZYw_M0cwR",
        "colab_type": "code",
        "outputId": "27155e63-0ca7-4a91-b67d-c0d571b8f753",
        "colab": {
          "base_uri": "https://localhost:8080/",
          "height": 272
        }
      },
      "source": [
        "model = Classifier()\n",
        "criterion = nn.NLLLoss()\n",
        "optimizer = optim.Adam(model.parameters(), lr=0.003)\n",
        "\n",
        "epochs = 15\n",
        "\n",
        "train_losses, test_losses = [], []\n",
        "for e in range(epochs):\n",
        "    running_loss = 0\n",
        "    for images, labels in trainloader:\n",
        "        \n",
        "        optimizer.zero_grad()\n",
        "        \n",
        "        log_ps = model(images)\n",
        "        loss = criterion(log_ps, labels)\n",
        "        loss.backward()\n",
        "        optimizer.step()\n",
        "        \n",
        "        running_loss += loss.item()\n",
        "        \n",
        "    else:\n",
        "        test_loss = 0\n",
        "        accuracy = 0\n",
        "        \n",
        "        # Turn off gradients for validation, saves memory and computations\n",
        "        with torch.no_grad():\n",
        "            for images, labels in testloader:\n",
        "                log_ps = model(images)\n",
        "                test_loss += criterion(log_ps, labels)\n",
        "                \n",
        "                ps = torch.exp(log_ps)\n",
        "                top_p, top_class = ps.topk(1, dim=1)\n",
        "                equals = top_class == labels.view(*top_class.shape)\n",
        "                accuracy += torch.mean(equals.type(torch.FloatTensor))\n",
        "                \n",
        "        train_losses.append(running_loss/len(trainloader))\n",
        "        test_losses.append(test_loss/len(testloader))\n",
        "        accuracies.append(accuracy/len(testloader))\n",
        "\n",
        "        print(\"Epoch: {}/{}.. \".format(e+1, epochs),\n",
        "              \"Training Loss: {:.3f}.. \".format(running_loss/len(trainloader)),\n",
        "              \"Test Loss: {:.3f}.. \".format(test_loss/len(testloader)),\n",
        "              \"Test Accuracy: {:.3f}\".format(accuracy/len(testloader)))"
      ],
      "execution_count": 0,
      "outputs": [
        {
          "output_type": "stream",
          "text": [
            "Epoch: 1/15..  Training Loss: 0.516..  Test Loss: 0.447..  Test Accuracy: 0.840\n",
            "Epoch: 2/15..  Training Loss: 0.391..  Test Loss: 0.413..  Test Accuracy: 0.850\n",
            "Epoch: 3/15..  Training Loss: 0.359..  Test Loss: 0.426..  Test Accuracy: 0.849\n",
            "Epoch: 4/15..  Training Loss: 0.333..  Test Loss: 0.402..  Test Accuracy: 0.856\n",
            "Epoch: 5/15..  Training Loss: 0.317..  Test Loss: 0.380..  Test Accuracy: 0.864\n",
            "Epoch: 6/15..  Training Loss: 0.303..  Test Loss: 0.368..  Test Accuracy: 0.871\n",
            "Epoch: 7/15..  Training Loss: 0.295..  Test Loss: 0.353..  Test Accuracy: 0.871\n",
            "Epoch: 8/15..  Training Loss: 0.282..  Test Loss: 0.356..  Test Accuracy: 0.877\n",
            "Epoch: 9/15..  Training Loss: 0.271..  Test Loss: 0.370..  Test Accuracy: 0.878\n",
            "Epoch: 10/15..  Training Loss: 0.273..  Test Loss: 0.369..  Test Accuracy: 0.876\n",
            "Epoch: 11/15..  Training Loss: 0.259..  Test Loss: 0.376..  Test Accuracy: 0.872\n",
            "Epoch: 12/15..  Training Loss: 0.252..  Test Loss: 0.370..  Test Accuracy: 0.876\n",
            "Epoch: 13/15..  Training Loss: 0.247..  Test Loss: 0.388..  Test Accuracy: 0.874\n",
            "Epoch: 14/15..  Training Loss: 0.245..  Test Loss: 0.381..  Test Accuracy: 0.873\n",
            "Epoch: 15/15..  Training Loss: 0.235..  Test Loss: 0.375..  Test Accuracy: 0.879\n"
          ],
          "name": "stdout"
        }
      ]
    },
    {
      "cell_type": "code",
      "metadata": {
        "id": "rABNbrN7BweK",
        "colab_type": "code",
        "outputId": "44b21481-b937-4a7c-9107-65b0e1d43a2b",
        "colab": {
          "base_uri": "https://localhost:8080/",
          "height": 286
        }
      },
      "source": [
        "import matplotlib.pyplot as plt\n",
        "plt.plot(train_losses, label=\"Train Losses\")\n",
        "plt.plot(test_losses, label=\"Test Losses\")\n",
        "plt.legend()"
      ],
      "execution_count": 0,
      "outputs": [
        {
          "output_type": "execute_result",
          "data": {
            "text/plain": [
              "<matplotlib.legend.Legend at 0x7f36f1918b00>"
            ]
          },
          "metadata": {
            "tags": []
          },
          "execution_count": 8
        },
        {
          "output_type": "display_data",
          "data": {
            "image/png": "[encoded data removed]",
            "text/plain": [
              "<Figure size 432x288 with 1 Axes>"
            ]
          },
          "metadata": {
            "tags": []
          }
        }
      ]
    },
    {
      "cell_type": "code",
      "metadata": {
        "id": "cu9fA9TpFNvg",
        "colab_type": "code",
        "outputId": "cbd254a0-1890-44a2-ce6d-606305c2a139",
        "colab": {
          "base_uri": "https://localhost:8080/",
          "height": 286
        }
      },
      "source": [
        "import matplotlib.pyplot as plt\n",
        "plt.plot(accuracies, label=\"Accuracy\")\n",
        "plt.legend()"
      ],
      "execution_count": 0,
      "outputs": [
        {
          "output_type": "execute_result",
          "data": {
            "text/plain": [
              "<matplotlib.legend.Legend at 0x7f36f1841780>"
            ]
          },
          "metadata": {
            "tags": []
          },
          "execution_count": 14
        },
        {
          "output_type": "display_data",
          "data": {
            "image/png": "[encoded data removed]",
            "text/plain": [
              "<Figure size 432x288 with 1 Axes>"
            ]
          },
          "metadata": {
            "tags": []
          }
        }
      ]
    },
    {
      "cell_type": "markdown",
      "metadata": {
        "id": "n8kcScb4_0ii",
        "colab_type": "text"
      },
      "source": [
        ""
      ]
    },
    {
      "cell_type": "markdown",
      "metadata": {
        "id": "NJxtSU3W0cwS",
        "colab_type": "text"
      },
      "source": [
        "## Overfitting\n",
        "\n",
        "If we look at the training and validation losses as we train the network, we can see a phenomenon known as overfitting.\n",
        "\n",
        "<img src='assets/overfitting.png' width=450px>\n",
        "\n",
        "The network learns the training set better and better, resulting in lower training losses. However, it starts having problems generalizing to data outside the training set leading to the validation loss increasing. The ultimate goal of any deep learning model is to make predictions on new data, so we should strive to get the lowest validation loss possible. One option is to use the version of the model with the lowest validation loss, here the one around 8-10 training epochs. This strategy is called *early-stopping*. In practice, you'd save the model frequently as you're training then later choose the model with the lowest validation loss.\n",
        "\n",
        "The most common method to reduce overfitting (outside of early-stopping) is *dropout*, where we randomly drop input units. This forces the network to share information between weights, increasing it's ability to generalize to new data. Adding dropout in PyTorch is straightforward using the [`nn.Dropout`](https://pytorch.org/docs/stable/nn.html#torch.nn.Dropout) module.\n",
        "\n",
        "```python\n",
        "class Classifier(nn.Module):\n",
        "    def __init__(self):\n",
        "        super().__init__()\n",
        "        self.fc1 = nn.Linear(784, 256)\n",
        "        self.fc2 = nn.Linear(256, 128)\n",
        "        self.fc3 = nn.Linear(128, 64)\n",
        "        self.fc4 = nn.Linear(64, 10)\n",
        "        \n",
        "        # Dropout module with 0.2 drop probability\n",
        "        self.dropout = nn.Dropout(p=0.2)\n",
        "        \n",
        "    def forward(self, x):\n",
        "        # make sure input tensor is flattened\n",
        "        x = x.view(x.shape[0], -1)\n",
        "        \n",
        "        # Now with dropout\n",
        "        x = self.dropout(F.relu(self.fc1(x)))\n",
        "        x = self.dropout(F.relu(self.fc2(x)))\n",
        "        x = self.dropout(F.relu(self.fc3(x)))\n",
        "        \n",
        "        # output so no dropout here\n",
        "        x = F.log_softmax(self.fc4(x), dim=1)\n",
        "        \n",
        "        return x\n",
        "```\n",
        "\n",
        "During training we want to use dropout to prevent overfitting, but during inference we want to use the entire network. So, we need to turn off dropout during validation, testing, and whenever we're using the network to make predictions. To do this, you use `model.eval()`. This sets the model to evaluation mode where the dropout probability is 0. You can turn dropout back on by setting the model to train mode with `model.train()`. In general, the pattern for the validation loop will look like this, where you turn off gradients, set the model to evaluation mode, calculate the validation loss and metric, then set the model back to train mode.\n",
        "\n",
        "```python\n",
        "# turn off gradients\n",
        "with torch.no_grad():\n",
        "    \n",
        "    # set model to evaluation mode\n",
        "    model.eval()\n",
        "    \n",
        "    # validation pass here\n",
        "    for images, labels in testloader:\n",
        "        ...\n",
        "\n",
        "# set model back to train mode\n",
        "model.train()\n",
        "```"
      ]
    },
    {
      "cell_type": "markdown",
      "metadata": {
        "id": "p-yL1EUy0cwT",
        "colab_type": "text"
      },
      "source": [
        "> **Exercise:** Add dropout to your model and train it on Fashion-MNIST again. See if you can get a lower validation loss or higher accuracy."
      ]
    },
    {
      "cell_type": "code",
      "metadata": {
        "id": "ntUyHNPE0cwU",
        "colab_type": "code",
        "colab": {}
      },
      "source": [
        "## TODO: Define your model with dropout added\n",
        "class Classifier(nn.Module):\n",
        "    def __init__(self):\n",
        "        super().__init__()\n",
        "        self.fc1 = nn.Linear(784, 256)\n",
        "        self.fc2 = nn.Linear(256, 128)\n",
        "        self.fc3 = nn.Linear(128, 64)\n",
        "        self.fc4 = nn.Linear(64, 10)\n",
        "\n",
        "        # Dropout module with 0.2 drop probability\n",
        "        self.dropout = nn.Dropout(p=0.2)\n",
        "\n",
        "    def forward(self, x):\n",
        "        # make sure input tensor is flattened\n",
        "        x = x.view(x.shape[0], -1)\n",
        "\n",
        "        # Now with dropout\n",
        "        x = self.dropout(F.relu(self.fc1(x)))\n",
        "        x = self.dropout(F.relu(self.fc2(x)))\n",
        "        x = self.dropout(F.relu(self.fc3(x)))\n",
        "\n",
        "        # output so no dropout here\n",
        "        x = F.log_softmax(self.fc4(x), dim=1)\n",
        "\n",
        "        return x"
      ],
      "execution_count": 0,
      "outputs": []
    },
    {
      "cell_type": "code",
      "metadata": {
        "id": "ZGCiD6MO0cwV",
        "colab_type": "code",
        "outputId": "91d2de44-532b-4137-fb75-554bbe9ad11c",
        "colab": {
          "base_uri": "https://localhost:8080/",
          "height": 68
        }
      },
      "source": [
        "\n",
        "## TODO: Train your model with dropout, and monitor the training progress with the validation loss and accuracy\n",
        "model = Classifier()\n",
        "criterion = nn.NLLLoss()\n",
        "optimizer = optim.Adam(model.parameters(), lr=0.001)\n",
        "\n",
        "epochs = 3\n",
        "steps = 0\n",
        "\n",
        "train_losses, test_losses, accuracies = [], [], []\n",
        "for e in range(epochs):\n",
        "    running_loss = 0\n",
        "    for images, labels in trainloader:\n",
        "        \n",
        "        optimizer.zero_grad()\n",
        "        \n",
        "        log_ps = model(images)\n",
        "        loss = criterion(log_ps, labels)\n",
        "        loss.backward()\n",
        "        optimizer.step()\n",
        "        \n",
        "        running_loss += loss.item()\n",
        "        \n",
        "    else:\n",
        "        test_loss = 0\n",
        "        accuracy = 0\n",
        "        \n",
        "        # Turn off gradients for validation, saves memory and computations\n",
        "        with torch.no_grad():\n",
        "            model.eval()\n",
        "            for images, labels in testloader:\n",
        "                log_ps = model(images)\n",
        "                test_loss += criterion(log_ps, labels)\n",
        "                \n",
        "                ps = torch.exp(log_ps)\n",
        "                top_p, top_class = ps.topk(1, dim=1)\n",
        "                equals = top_class == labels.view(*top_class.shape)\n",
        "                accuracy += torch.mean(equals.type(torch.FloatTensor))\n",
        "        \n",
        "        model.train()\n",
        "        \n",
        "        train_losses.append(running_loss/len(trainloader))\n",
        "        test_losses.append(test_loss/len(testloader))\n",
        "        accuracies.append(accuracy/len(testloader))\n",
        "\n",
        "        print(\"Epoch: {}/{}.. \".format(e+1, epochs),\n",
        "              \"Training Loss: {:.3f}.. \".format(running_loss/len(trainloader)),\n",
        "              \"Test Loss: {:.3f}.. \".format(test_loss/len(testloader)),\n",
        "              \"Test Accuracy: {:.3f}\".format(accuracy/len(testloader)))"
      ],
      "execution_count": 0,
      "outputs": [
        {
          "output_type": "stream",
          "text": [
            "Epoch: 1/3..  Training Loss: 0.591..  Test Loss: 0.434..  Test Accuracy: 0.839\n",
            "Epoch: 2/3..  Training Loss: 0.435..  Test Loss: 0.423..  Test Accuracy: 0.847\n",
            "Epoch: 3/3..  Training Loss: 0.398..  Test Loss: 0.388..  Test Accuracy: 0.857\n"
          ],
          "name": "stdout"
        }
      ]
    },
    {
      "cell_type": "code",
      "metadata": {
        "id": "vtC6F8QnGRZ5",
        "colab_type": "code",
        "outputId": "82720daa-58c5-421f-e465-cc63aac4f71b",
        "colab": {
          "base_uri": "https://localhost:8080/",
          "height": 286
        }
      },
      "source": [
        "# Plot the Train, and validation Loss \n",
        "plt.plot(train_losses, label=\"Train Losses\")\n",
        "plt.plot(test_losses, label=\"Test Losses\")\n"
      ],
      "execution_count": 0,
      "outputs": [
        {
          "output_type": "execute_result",
          "data": {
            "text/plain": [
              "[<matplotlib.lines.Line2D at 0x7f36e6621c18>]"
            ]
          },
          "metadata": {
            "tags": []
          },
          "execution_count": 34
        },
        {
          "output_type": "display_data",
          "data": {
            "image/png": "[encoded data removed]",
            "text/plain": [
              "<Figure size 432x288 with 1 Axes>"
            ]
          },
          "metadata": {
            "tags": []
          }
        }
      ]
    },
    {
      "cell_type": "code",
      "metadata": {
        "id": "zBC3kxhwGWa0",
        "colab_type": "code",
        "outputId": "5c5c12bb-e2a6-4013-ccf3-958eb09f235d",
        "colab": {
          "base_uri": "https://localhost:8080/",
          "height": 286
        }
      },
      "source": [
        "# Plot the Accuracy\n",
        "plt.plot(accuracies, label=\"Train Losses\")\n"
      ],
      "execution_count": 0,
      "outputs": [
        {
          "output_type": "execute_result",
          "data": {
            "text/plain": [
              "[<matplotlib.lines.Line2D at 0x7f36e654cba8>]"
            ]
          },
          "metadata": {
            "tags": []
          },
          "execution_count": 35
        },
        {
          "output_type": "display_data",
          "data": {
            "image/png": "[encoded data removed]",
            "text/plain": [
              "<Figure size 432x288 with 1 Axes>"
            ]
          },
          "metadata": {
            "tags": []
          }
        }
      ]
    },
    {
      "cell_type": "markdown",
      "metadata": {
        "id": "jVWOFzaf0cwX",
        "colab_type": "text"
      },
      "source": [
        "## Inference\n",
        "\n",
        "Now that the model is trained, we can use it for inference. We've done this before, but now we need to remember to set the model in inference mode with `model.eval()`. You'll also want to turn off autograd with the `torch.no_grad()` context."
      ]
    },
    {
      "cell_type": "code",
      "metadata": {
        "id": "y93xcaWwkZGH",
        "colab_type": "code",
        "outputId": "7c8d1299-bdb7-4620-f96a-95296dd88cdf",
        "colab": {
          "base_uri": "https://localhost:8080/",
          "height": 122
        }
      },
      "source": [
        "from google.colab import drive\n",
        "drive.mount('/content/gdrive')"
      ],
      "execution_count": 0,
      "outputs": [
        {
          "output_type": "stream",
          "text": [
            "Go to this URL in a browser: https://accounts.google.com/o/oauth2/auth?client_id=947318989803-6bn6qk8qdgf4n4g3pfee6491hc0brc4i.apps.googleusercontent.com&redirect_uri=urn%3Aietf%3Awg%3Aoauth%3A2.0%3Aoob&scope=email%20https%3A%2F%2Fwww.googleapis.com%2Fauth%2Fdocs.test%20https%3A%2F%2Fwww.googleapis.com%2Fauth%2Fdrive%20https%3A%2F%2Fwww.googleapis.com%2Fauth%2Fdrive.photos.readonly%20https%3A%2F%2Fwww.googleapis.com%2Fauth%2Fpeopleapi.readonly&response_type=code\n",
            "\n",
            "Enter your authorization code:\n",
            "··········\n",
            "Mounted at /content/gdrive\n"
          ],
          "name": "stdout"
        }
      ]
    },
    {
      "cell_type": "markdown",
      "metadata": {
        "id": "4OG1ntLB0cwa",
        "colab_type": "text"
      },
      "source": [
        "### EXERCISE ###\n",
        "\n",
        "1) save the trained model\n",
        "2) load your trained model from the derive, and use it to make inferences\n",
        "\n",
        "2) use a pretrained model from PyTorch -- AlexNet, Resnet18"
      ]
    },
    {
      "cell_type": "code",
      "metadata": {
        "id": "QfAsleod6zTN",
        "colab_type": "code",
        "outputId": "ae2bf636-d75c-4ca8-f4a6-5bc005bce7fa",
        "colab": {
          "base_uri": "https://localhost:8080/",
          "height": 71
        }
      },
      "source": [
        "mypath='/content/gdrive/My Drive/Colab Notebooks/CyberSecurity/ICP5/modelSave.pt'\n",
        "\n",
        "# Save Model\n",
        "torch.save(model, mypath)"
      ],
      "execution_count": 0,
      "outputs": [
        {
          "output_type": "stream",
          "text": [
            "/usr/local/lib/python3.6/dist-packages/torch/serialization.py:256: UserWarning: Couldn't retrieve source code for container of type Classifier. It won't be checked for correctness upon loading.\n",
            "  \"type \" + obj.__name__ + \". It won't be checked \"\n"
          ],
          "name": "stderr"
        }
      ]
    },
    {
      "cell_type": "code",
      "metadata": {
        "id": "XJCqXE39pD4V",
        "colab_type": "code",
        "colab": {}
      },
      "source": [
        "#Load model \n",
        "\n",
        "model = torch.load(mypath)\n"
      ],
      "execution_count": 0,
      "outputs": []
    },
    {
      "cell_type": "code",
      "metadata": {
        "id": "cKnsvE8JpqlJ",
        "colab_type": "code",
        "outputId": "fd80897c-81ca-49c6-b73c-34ed47ab4a52",
        "colab": {
          "base_uri": "https://localhost:8080/",
          "height": 136
        }
      },
      "source": [
        "#Evaluate Model\n",
        "model.eval()"
      ],
      "execution_count": 0,
      "outputs": [
        {
          "output_type": "execute_result",
          "data": {
            "text/plain": [
              "Classifier(\n",
              "  (fc1): Linear(in_features=784, out_features=256, bias=True)\n",
              "  (fc2): Linear(in_features=256, out_features=128, bias=True)\n",
              "  (fc3): Linear(in_features=128, out_features=64, bias=True)\n",
              "  (fc4): Linear(in_features=64, out_features=10, bias=True)\n",
              "  (dropout): Dropout(p=0.2)\n",
              ")"
            ]
          },
          "metadata": {
            "tags": []
          },
          "execution_count": 39
        }
      ]
    },
    {
      "cell_type": "code",
      "metadata": {
        "id": "6HMoLk9qvK8V",
        "colab_type": "code",
        "outputId": "7fb9490d-92f9-4ad7-e872-8f0e5a490b16",
        "colab": {
          "base_uri": "https://localhost:8080/",
          "height": 71
        }
      },
      "source": [
        "import torch\n",
        "from torchvision import datasets, transforms\n",
        "\n",
        "# Same transformations as before but we do not vectorize the images.\n",
        "# Additionally we are scaling up images to 224x224 in order to use Resnet.\n",
        "imgTransform = transforms.Compose([transforms.Resize((224, 224)),\n",
        "                                   transforms.ToTensor(),\n",
        "                                   transforms.Normalize((0.4914, 0.4822, 0.4465), \n",
        "                                                        (0.2023, 0.1994, 0.2010))])\n",
        "trainset = datasets.CIFAR10(root='/content/drive/My Drive/Colab Notebooks/CyberSecurity/Data', download=True,train = True, transform = imgTransform)\n",
        "testset =  datasets.CIFAR10(root='/content/drive/My Drive/Colab Notebooks/CyberSecurity/Data', download=True,train = False, transform = imgTransform)\n",
        "\n",
        "trainLoader = torch.utils.data.DataLoader(trainset, batch_size = 64, \n",
        "                                          shuffle = True, num_workers = 0)\n",
        "testloader = torch.utils.data.DataLoader(testset, batch_size = 64, \n",
        "                                        shuffle = False, num_workers = 0)"
      ],
      "execution_count": 2,
      "outputs": [
        {
          "output_type": "stream",
          "text": [
            "\r0it [00:00, ?it/s]"
          ],
          "name": "stderr"
        },
        {
          "output_type": "stream",
          "text": [
            "Downloading https://www.cs.toronto.edu/~kriz/cifar-10-python.tar.gz to /content/drive/My Drive/Colab Notebooks/CyberSecurity/Data/cifar-10-python.tar.gz\n"
          ],
          "name": "stdout"
        },
        {
          "output_type": "stream",
          "text": [
            " 98%|█████████▊| 167452672/170498071 [00:11<00:00, 16420370.17it/s]"
          ],
          "name": "stderr"
        },
        {
          "output_type": "stream",
          "text": [
            "Files already downloaded and verified\n"
          ],
          "name": "stdout"
        }
      ]
    },
    {
      "cell_type": "code",
      "metadata": {
        "id": "GmMhj5d1Sidw",
        "colab_type": "code",
        "colab": {
          "base_uri": "https://localhost:8080/",
          "height": 34
        },
        "outputId": "72657828-e27c-4056-ba77-ae34d4c995ce"
      },
      "source": [
        "dataiter = next(iter(trainLoader))\n",
        "images, labels = dataiter\n",
        "images.shape"
      ],
      "execution_count": 4,
      "outputs": [
        {
          "output_type": "execute_result",
          "data": {
            "text/plain": [
              "torch.Size([64, 3, 224, 224])"
            ]
          },
          "metadata": {
            "tags": []
          },
          "execution_count": 4
        }
      ]
    },
    {
      "cell_type": "code",
      "metadata": {
        "id": "5IRnT0k_Euph",
        "colab_type": "code",
        "outputId": "2960761f-857d-4db2-8b11-66987118962a",
        "colab": {
          "base_uri": "https://localhost:8080/",
          "height": 394
        }
      },
      "source": [
        "from torch import nn, optim\n",
        "\n",
        "# Definition of our network.\n",
        "import torchvision.models as models\n",
        "network = models.alexnet(pretrained = True)\n",
        "\n",
        "\n",
        "\n",
        "network.eval()\n",
        "\n"
      ],
      "execution_count": 1,
      "outputs": [
        {
          "output_type": "stream",
          "text": [
            "Downloading: \"https://download.pytorch.org/models/alexnet-owt-4df8aa71.pth\" to /root/.cache/torch/checkpoints/alexnet-owt-4df8aa71.pth\n",
            "100%|██████████| 244418560/244418560 [00:08<00:00, 30379863.03it/s]\n"
          ],
          "name": "stderr"
        },
        {
          "output_type": "execute_result",
          "data": {
            "text/plain": [
              "AlexNet(\n",
              "  (features): Sequential(\n",
              "    (0): Conv2d(3, 64, kernel_size=(11, 11), stride=(4, 4), padding=(2, 2))\n",
              "    (1): ReLU(inplace)\n",
              "    (2): MaxPool2d(kernel_size=3, stride=2, padding=0, dilation=1, ceil_mode=False)\n",
              "    (3): Conv2d(64, 192, kernel_size=(5, 5), stride=(1, 1), padding=(2, 2))\n",
              "    (4): ReLU(inplace)\n",
              "    (5): MaxPool2d(kernel_size=3, stride=2, padding=0, dilation=1, ceil_mode=False)\n",
              "    (6): Conv2d(192, 384, kernel_size=(3, 3), stride=(1, 1), padding=(1, 1))\n",
              "    (7): ReLU(inplace)\n",
              "    (8): Conv2d(384, 256, kernel_size=(3, 3), stride=(1, 1), padding=(1, 1))\n",
              "    (9): ReLU(inplace)\n",
              "    (10): Conv2d(256, 256, kernel_size=(3, 3), stride=(1, 1), padding=(1, 1))\n",
              "    (11): ReLU(inplace)\n",
              "    (12): MaxPool2d(kernel_size=3, stride=2, padding=0, dilation=1, ceil_mode=False)\n",
              "  )\n",
              "  (avgpool): AdaptiveAvgPool2d(output_size=(6, 6))\n",
              "  (classifier): Linear(in_features=9216, out_features=10, bias=True)\n",
              ")"
            ]
          },
          "metadata": {
            "tags": []
          },
          "execution_count": 1
        }
      ]
    },
    {
      "cell_type": "code",
      "metadata": {
        "id": "dpFnTxE6S0zB",
        "colab_type": "code",
        "colab": {
          "base_uri": "https://localhost:8080/",
          "height": 1000
        },
        "outputId": "5ac045dc-df5b-4e6d-cddf-0d44d05fc0de"
      },
      "source": [
        "output = network(images)\n",
        "\n",
        "print(output.shape)\n",
        "print(output)\n",
        "\n"
      ],
      "execution_count": 7,
      "outputs": [
        {
          "output_type": "stream",
          "text": [
            "torch.Size([64, 10])\n",
            "tensor([[ 9.5249e-01,  6.5164e-01, -1.0624e+00, -9.8064e-01, -1.3788e+00,\n",
            "          2.1541e-01, -3.6448e-01, -6.2676e-01, -1.1627e+00,  7.5530e-01],\n",
            "        [ 6.0446e-01,  1.0012e+00, -1.6683e-01, -9.1556e-01, -5.5709e-01,\n",
            "          4.2357e-01,  6.9237e-02,  1.3867e-02, -2.3191e-01,  8.3487e-01],\n",
            "        [ 1.2387e+00,  1.5682e+00, -4.8981e-01, -1.0229e+00,  7.5186e-01,\n",
            "          1.0542e+00, -3.7047e-01, -4.0180e-01,  3.0962e-01, -4.9382e-01],\n",
            "        [-1.4357e-01,  6.8516e-01,  1.1430e-01, -8.7454e-01, -3.4950e-01,\n",
            "          7.6573e-01, -5.8996e-01,  1.6403e-03,  2.3203e-01,  4.5625e-01],\n",
            "        [-5.2088e-01,  3.1023e-01, -1.2303e+00, -1.4712e+00, -1.4233e-01,\n",
            "          5.9352e-01, -3.8893e-01,  2.5410e-01,  5.5490e-01,  5.6467e-02],\n",
            "        [ 5.7896e-01,  3.7172e-01,  2.2996e-01, -9.1416e-01, -3.0192e-01,\n",
            "         -2.3674e-01, -7.7224e-01,  2.4341e-01,  6.7143e-01,  4.4856e-01],\n",
            "        [ 6.6229e-01, -1.1669e-01,  6.8869e-01, -8.1669e-01, -5.3026e-01,\n",
            "          2.7541e-01, -4.0938e-01,  1.0418e+00,  6.4081e-01,  3.4569e-01],\n",
            "        [ 9.9642e-01,  1.5585e+00, -2.9015e-01, -1.1869e+00, -1.4950e-01,\n",
            "          1.3481e+00,  4.8078e-01,  5.4338e-01,  3.8485e-01,  6.8978e-01],\n",
            "        [ 4.1338e-01,  3.7713e-01, -8.0076e-02, -1.1434e+00,  4.1434e-01,\n",
            "          3.6220e-01, -4.1605e-01, -3.0646e-01,  1.2838e-01,  5.1668e-01],\n",
            "        [ 4.9080e-01, -3.2256e-01, -1.0083e+00, -6.9526e-01, -2.5121e-01,\n",
            "          6.9781e-01, -9.1889e-01,  6.9641e-02,  4.7078e-01, -9.6580e-02],\n",
            "        [ 9.7981e-01,  3.8460e-01, -5.1525e-01, -7.8782e-01, -4.4535e-01,\n",
            "          6.7573e-01, -1.0536e+00,  4.1871e-01,  2.9209e-01,  2.0529e-01],\n",
            "        [ 6.5648e-01,  8.6287e-01,  1.0862e+00, -8.0778e-01, -5.1805e-01,\n",
            "          6.3223e-01,  1.2330e-02,  9.8986e-02, -4.0509e-01, -2.9770e-01],\n",
            "        [ 7.1097e-01,  2.6341e-01, -1.5453e-01, -4.8739e-01, -1.0162e-02,\n",
            "          8.1317e-01, -7.6623e-01,  4.9514e-01,  1.8194e-01, -1.9055e-01],\n",
            "        [ 3.0994e-01,  3.9488e-01, -2.2218e-01, -1.2006e+00,  3.1733e-01,\n",
            "          5.6443e-01, -1.4368e-01, -1.9798e-01,  4.3066e-01, -1.6759e-01],\n",
            "        [-1.8400e-02,  1.0792e+00, -2.9586e-01, -1.3915e+00, -1.1280e+00,\n",
            "         -2.4669e-01, -5.7087e-01,  2.4287e-02, -4.4798e-01, -6.9754e-02],\n",
            "        [ 4.8805e-01,  1.1617e+00, -3.6887e-01,  1.2288e-01, -4.4408e-01,\n",
            "         -9.5160e-02, -1.4030e+00,  8.5860e-02,  5.9203e-01, -6.0370e-01],\n",
            "        [-5.5905e-01, -8.3421e-02, -4.7691e-01, -9.5391e-01,  1.9573e-01,\n",
            "          1.0353e+00, -7.2544e-01,  6.6871e-01,  7.7069e-01, -4.1446e-01],\n",
            "        [ 2.5517e-01,  4.9349e-01, -3.6648e-01, -9.0394e-01, -1.0963e+00,\n",
            "          1.0630e+00, -6.7842e-01, -1.2232e-01, -3.5302e-01,  4.2527e-01],\n",
            "        [ 7.2702e-01, -7.3506e-01,  1.3457e-01, -1.0356e+00, -5.7906e-01,\n",
            "          8.5316e-01, -5.1575e-01, -1.5564e-01,  1.7172e-01,  5.9043e-01],\n",
            "        [ 8.8897e-01,  6.6574e-01, -9.1900e-01, -8.1197e-01, -4.3511e-01,\n",
            "          1.2345e+00, -1.0198e+00,  3.9447e-01, -2.9187e-01, -3.0594e-01],\n",
            "        [ 1.6737e-01,  3.2079e-01,  1.7353e-01, -8.7389e-01, -5.7498e-01,\n",
            "          4.7696e-01, -6.9536e-01, -2.2649e-01, -7.7422e-02, -1.5028e-01],\n",
            "        [ 2.6809e-01,  1.0338e+00, -3.6521e-01, -6.9146e-01, -2.4549e-01,\n",
            "          7.3923e-01, -5.7329e-01,  3.7446e-01,  1.1325e-01,  4.9773e-02],\n",
            "        [ 6.7905e-01,  4.2276e-02,  1.9099e-01, -3.5012e-01,  7.3923e-01,\n",
            "          1.0765e+00, -6.8666e-01,  4.0953e-01,  2.8773e-01, -2.3899e-01],\n",
            "        [ 1.3603e+00,  4.2757e-01,  2.8187e-01, -8.3633e-01, -7.7140e-02,\n",
            "          4.9852e-01, -1.0304e+00,  4.6193e-01,  4.3778e-01,  4.5450e-01],\n",
            "        [ 1.4745e-01,  1.2215e-01,  5.0033e-01, -8.3313e-01, -2.8430e-01,\n",
            "          1.0375e-01, -5.3927e-01,  5.1937e-01,  4.5000e-01,  3.6176e-01],\n",
            "        [ 2.1015e-01,  2.2551e-01,  1.0378e-01, -8.3565e-01, -6.1999e-01,\n",
            "          5.6524e-01, -3.4173e-01, -6.6109e-02,  4.6395e-01, -1.4419e-03],\n",
            "        [ 7.4393e-01,  1.6556e-01, -8.0418e-01, -5.9682e-01, -6.3726e-02,\n",
            "          1.1530e+00, -8.7759e-01, -2.2137e-01,  1.2960e-01,  5.0381e-01],\n",
            "        [ 6.5507e-01,  3.6426e-01,  3.6103e-01, -1.1984e+00, -7.0729e-01,\n",
            "          5.2910e-01, -1.0069e-01, -6.7444e-02,  1.1130e+00, -2.2118e-01],\n",
            "        [ 1.0453e+00, -1.7658e-01, -1.1058e+00, -5.0669e-02, -8.5321e-01,\n",
            "          8.2157e-01, -9.2608e-01,  4.5698e-01, -1.3736e+00, -5.3530e-01],\n",
            "        [ 5.8181e-01,  1.4177e-01,  2.6221e-01, -1.4147e+00,  7.2785e-01,\n",
            "          1.1181e+00, -9.3099e-02,  1.7564e-01,  1.1930e-01, -5.7133e-02],\n",
            "        [ 5.1971e-01,  6.1535e-01, -2.2241e-01, -3.0676e-01, -2.6519e-01,\n",
            "          9.2908e-01, -5.9334e-01,  4.4944e-01, -4.8389e-02,  6.1900e-01],\n",
            "        [ 2.8493e-01,  2.9037e-01,  2.2378e-02, -7.6321e-01, -2.6056e-01,\n",
            "          2.7141e-01, -7.6983e-02,  1.2276e-01, -3.3587e-02, -1.4896e-02],\n",
            "        [ 6.3287e-01, -7.2837e-01, -4.2446e-01, -1.4085e+00, -3.5580e-01,\n",
            "          7.6153e-01,  3.8758e-01,  6.3959e-01,  2.0043e-01, -6.0354e-01],\n",
            "        [ 2.4072e-01,  7.8129e-01, -6.3572e-01, -6.9947e-01, -9.3631e-01,\n",
            "          6.3982e-01, -9.4522e-01,  8.8565e-01,  2.6877e-01, -3.2143e-02],\n",
            "        [ 2.2008e+00,  2.8649e-01, -1.2657e+00, -1.5124e+00,  3.9541e-01,\n",
            "          1.0348e+00, -1.3696e+00, -3.6316e-01,  6.9470e-01, -1.3023e-01],\n",
            "        [ 6.1700e-01,  6.2221e-01, -2.9598e-01, -2.5914e-01, -2.4985e-01,\n",
            "          5.8571e-01, -3.6029e-01, -1.7089e-01, -3.9887e-01,  3.3956e-02],\n",
            "        [ 4.5327e-01, -2.3557e-01, -3.3132e-01, -7.0580e-01,  2.5313e-01,\n",
            "          7.7609e-01, -5.2931e-01, -4.8612e-02, -4.6390e-01, -4.8482e-02],\n",
            "        [ 8.2400e-01,  7.9354e-01,  2.0183e-01, -1.2331e+00, -1.8301e-01,\n",
            "          5.3976e-01, -2.2628e-01,  2.7980e-01,  5.1350e-01,  5.7352e-01],\n",
            "        [ 1.2249e+00,  7.6104e-01, -5.4637e-01, -2.6284e-01,  7.2112e-02,\n",
            "          9.7891e-01, -2.4089e-01,  7.2567e-01, -8.0621e-02,  7.6348e-01],\n",
            "        [ 4.8698e-01,  1.6839e+00, -1.4975e-01, -1.6363e+00, -1.4817e+00,\n",
            "          1.3011e+00, -1.0365e+00, -5.0409e-01, -1.4727e-02,  1.6895e-01],\n",
            "        [ 8.1229e-01,  3.3484e-01,  6.7549e-02, -1.5421e+00, -6.0273e-01,\n",
            "          7.3153e-01, -7.6036e-01,  2.2887e-01,  1.4352e-01, -1.5689e-01],\n",
            "        [ 8.1713e-01,  5.0997e-01, -7.4856e-01, -6.3741e-01, -2.7350e-01,\n",
            "          7.0411e-01, -7.3395e-01, -3.1935e-01, -6.0606e-02, -4.9063e-01],\n",
            "        [ 4.4682e-01,  1.4803e-01, -6.9191e-01, -1.1840e+00, -4.4622e-01,\n",
            "          6.1029e-01, -9.1862e-01,  2.5800e-01,  9.0901e-01, -2.2546e-01],\n",
            "        [ 5.8248e-01, -5.3524e-01, -8.0133e-01, -3.0505e-01, -7.5862e-01,\n",
            "          9.5024e-01, -9.7762e-01,  1.2699e-01,  4.8485e-01,  5.5435e-01],\n",
            "        [ 1.0208e+00,  1.6181e+00,  1.0530e+00, -1.5632e+00, -1.7270e+00,\n",
            "          5.6363e-01, -9.0568e-01,  4.2335e-02, -3.2937e-01,  2.7595e-01],\n",
            "        [-1.7089e-01,  3.1909e-01,  3.9314e-01, -9.6310e-01, -5.6863e-01,\n",
            "          1.1135e+00, -1.4275e+00,  6.8461e-02,  6.1314e-01,  8.9434e-02],\n",
            "        [ 3.6544e-01,  5.7119e-01,  1.4054e-02,  9.0527e-02, -4.6345e-01,\n",
            "          8.8724e-01, -8.2623e-01, -4.3711e-01,  6.6867e-01,  5.8285e-01],\n",
            "        [ 5.2478e-01,  2.6836e-01,  9.7241e-01, -8.4057e-01, -1.2666e-01,\n",
            "          6.8779e-01, -5.9849e-01,  5.3044e-01, -2.7406e-01,  1.2051e-01],\n",
            "        [ 1.7121e-01,  3.8744e-01,  3.1060e-01, -2.8859e+00,  8.9821e-01,\n",
            "          1.2569e+00,  1.3338e+00,  6.4388e-01, -2.7939e-01,  1.4595e+00],\n",
            "        [ 9.0996e-02,  1.0330e+00,  1.3345e-01, -8.9657e-01, -3.6420e-01,\n",
            "          1.8310e+00,  2.7990e-01,  6.1917e-02, -3.9929e-01,  1.8661e-01],\n",
            "        [ 3.9169e-01,  1.1536e+00, -1.0627e+00,  4.0337e-01,  5.2962e-02,\n",
            "          5.8808e-01, -9.9998e-01, -3.7146e-01, -4.5142e-01, -3.0199e-01],\n",
            "        [ 3.9146e-01,  4.3038e-01, -5.6699e-01, -1.4599e+00, -1.0235e+00,\n",
            "          3.0458e-01, -1.0414e+00,  1.9748e-01,  4.1986e-02,  2.6094e-01],\n",
            "        [-2.1105e-01,  3.7821e-01, -1.0873e-01, -4.0926e-01, -3.8917e-02,\n",
            "          2.5940e-01, -2.6486e-01,  2.9599e-01, -5.0894e-01,  7.4707e-02],\n",
            "        [ 3.7468e-01, -3.1996e-01,  2.6358e-01, -8.8546e-01, -7.6058e-02,\n",
            "          7.6336e-01, -4.5910e-01,  1.6904e-01,  4.2737e-01,  2.2843e-01],\n",
            "        [ 4.5638e-01,  5.4275e-01, -1.2186e+00, -6.0803e-01, -1.0253e+00,\n",
            "          7.2438e-01, -4.9572e-01,  7.8109e-02, -1.2052e-01,  5.6262e-01],\n",
            "        [ 2.9150e-01, -3.0298e-01,  5.9348e-01, -1.1742e+00, -7.3337e-02,\n",
            "          1.0770e+00, -4.4712e-01,  5.8557e-01,  1.2930e-01,  8.1113e-01],\n",
            "        [-1.2194e-01,  1.0363e+00, -5.6803e-01, -6.7615e-01, -3.2144e-01,\n",
            "          1.3147e+00, -2.7876e-01,  1.9613e-01, -4.1714e-01,  8.7360e-01],\n",
            "        [ 7.1247e-01, -5.4160e-01,  6.8518e-01, -1.3872e+00,  1.1354e-01,\n",
            "          1.3702e+00, -7.7708e-01,  1.0107e+00, -3.1662e-02, -4.5302e-03],\n",
            "        [ 7.7168e-01, -6.8427e-01,  4.9992e-01, -4.8367e-01, -3.3184e-01,\n",
            "          9.7115e-01, -4.6882e-01, -7.5264e-02, -7.1388e-01, -1.2646e-01],\n",
            "        [ 3.4227e-01,  1.1762e+00, -7.5799e-02, -9.0904e-01, -6.3410e-01,\n",
            "          1.8698e+00,  2.1339e-01, -2.0730e-01, -2.8436e-01,  1.5780e+00],\n",
            "        [ 1.1580e+00,  1.5247e+00, -6.1247e-01, -1.7126e+00, -1.4454e+00,\n",
            "          1.4948e+00, -1.3013e+00, -7.6363e-01,  8.5703e-01,  5.1909e-01],\n",
            "        [ 5.5743e-02, -3.9217e-02, -3.3118e-01, -5.7619e-01, -2.7503e-01,\n",
            "          3.7717e-01, -1.0137e-01,  6.7140e-01,  5.9569e-01,  2.0995e-01],\n",
            "        [ 2.2795e-01,  3.4174e-01, -1.3540e+00, -1.5121e+00, -8.4177e-01,\n",
            "          6.9844e-01,  9.9006e-03, -4.6920e-01, -9.6439e-01, -1.6643e-01],\n",
            "        [ 7.3781e-01,  7.6577e-01,  1.1625e-01, -1.1325e+00, -2.0829e-01,\n",
            "          9.1570e-01, -8.6969e-01,  5.0651e-01,  4.0780e-02,  1.4982e-01]],\n",
            "       grad_fn=<AddmmBackward>)\n"
          ],
          "name": "stdout"
        }
      ]
    }
  ]
}